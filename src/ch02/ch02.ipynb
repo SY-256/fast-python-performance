{
 "cells": [
  {
   "cell_type": "code",
   "execution_count": 1,
   "id": "70d0c324",
   "metadata": {},
   "outputs": [],
   "source": [
    "import os\n",
    "import csv\n",
    "import requests"
   ]
  },
  {
   "cell_type": "code",
   "execution_count": 2,
   "id": "02a1ab74",
   "metadata": {},
   "outputs": [
    {
     "name": "stdout",
     "output_type": "stream",
     "text": [
      "424 µs ± 754 ns per loop (mean ± std. dev. of 7 runs, 1,000 loops each)\n",
      "40.4 ns ± 0.133 ns per loop (mean ± std. dev. of 7 runs, 10,000,000 loops each)\n",
      "860 µs ± 4.41 µs per loop (mean ± std. dev. of 7 runs, 1,000 loops each)\n",
      "26.1 ns ± 0.0185 ns per loop (mean ± std. dev. of 7 runs, 10,000,000 loops each)\n"
     ]
    }
   ],
   "source": [
    "### リスト検索のパフォーマンス vs セットを使った検索\n",
    "a_list_range = list(range(100000))\n",
    "a_set_range = set(a_list_range)\n",
    "\n",
    "%timeit 50000 in a_list_range\n",
    "%timeit 50000 in a_set_range\n",
    "%timeit 500000 in a_list_range\n",
    "%timeit 500000 in a_set_range\n"
   ]
  },
  {
   "cell_type": "code",
   "execution_count": 5,
   "id": "d622e451",
   "metadata": {},
   "outputs": [
    {
     "ename": "FileNotFoundError",
     "evalue": "[Errno 2] No such file or directory: 'station_01044099999_2021.csv'",
     "output_type": "error",
     "traceback": [
      "\u001b[0;31m---------------------------------------------------------------------------\u001b[0m",
      "\u001b[0;31mFileNotFoundError\u001b[0m                         Traceback (most recent call last)",
      "Input \u001b[0;32mIn [5]\u001b[0m, in \u001b[0;36m<cell line: 42>\u001b[0;34m()\u001b[0m\n\u001b[1;32m     40\u001b[0m end_year \u001b[38;5;241m=\u001b[39m \u001b[38;5;241m2021\u001b[39m\n\u001b[1;32m     41\u001b[0m download_all_data(stations, start_year, end_year)\n\u001b[0;32m---> 42\u001b[0m all_files \u001b[38;5;241m=\u001b[39m \u001b[43mget_all_files\u001b[49m\u001b[43m(\u001b[49m\u001b[43mstations\u001b[49m\u001b[43m,\u001b[49m\u001b[43m \u001b[49m\u001b[43mstart_year\u001b[49m\u001b[43m,\u001b[49m\u001b[43m \u001b[49m\u001b[43mend_year\u001b[49m\u001b[43m)\u001b[49m\n\u001b[1;32m     44\u001b[0m \u001b[38;5;28mlist\u001b[39m(all_files\u001b[38;5;241m.\u001b[39mkeys())\n\u001b[1;32m     46\u001b[0m \u001b[38;5;28mprint\u001b[39m(sys\u001b[38;5;241m.\u001b[39mgetsizeof(all_files))\n",
      "Input \u001b[0;32mIn [5]\u001b[0m, in \u001b[0;36mget_all_files\u001b[0;34m(stations, start_year, end_year)\u001b[0m\n\u001b[1;32m     29\u001b[0m \u001b[38;5;28;01mfor\u001b[39;00m station \u001b[38;5;129;01min\u001b[39;00m stations:\n\u001b[1;32m     30\u001b[0m     \u001b[38;5;28;01mfor\u001b[39;00m year \u001b[38;5;129;01min\u001b[39;00m \u001b[38;5;28mrange\u001b[39m(start_year, end_year \u001b[38;5;241m+\u001b[39m \u001b[38;5;241m1\u001b[39m):\n\u001b[0;32m---> 31\u001b[0m         f \u001b[38;5;241m=\u001b[39m \u001b[38;5;28;43mopen\u001b[39;49m\u001b[43m(\u001b[49m\u001b[43mTEMPLATE_FILE\u001b[49m\u001b[38;5;241;43m.\u001b[39;49m\u001b[43mformat\u001b[49m\u001b[43m(\u001b[49m\u001b[43mstation\u001b[49m\u001b[38;5;241;43m=\u001b[39;49m\u001b[43mstation\u001b[49m\u001b[43m,\u001b[49m\u001b[43m \u001b[49m\u001b[43myear\u001b[49m\u001b[38;5;241;43m=\u001b[39;49m\u001b[43myear\u001b[49m\u001b[43m)\u001b[49m\u001b[43m,\u001b[49m\u001b[43m \u001b[49m\u001b[38;5;124;43m\"\u001b[39;49m\u001b[38;5;124;43mrb\u001b[39;49m\u001b[38;5;124;43m\"\u001b[39;49m\u001b[43m)\u001b[49m\n\u001b[1;32m     32\u001b[0m         content \u001b[38;5;241m=\u001b[39m \u001b[38;5;28mlist\u001b[39m(f\u001b[38;5;241m.\u001b[39mread())\n\u001b[1;32m     33\u001b[0m         all_files[station]\u001b[38;5;241m.\u001b[39mappend(content)\n",
      "\u001b[0;31mFileNotFoundError\u001b[0m: [Errno 2] No such file or directory: 'station_01044099999_2021.csv'"
     ]
    }
   ],
   "source": [
    "### 過剰なメモリ割り当てを突き止める\n",
    "import array\n",
    "import collections\n",
    "import sys\n",
    "import os\n",
    "\n",
    "import requests\n",
    "\n",
    "TEMPLATE_URL = \"https://www.ncei.noaa.gov/data/global-hourly/access/{year}/{station}.csv\"\n",
    "TEMPLATE_FILE = \"station_{station}_{year}.csv\"\n",
    "\n",
    "def download_data(station, year):\n",
    "    my_url = TEMPLATE_URL.format(station=station, year=year)\n",
    "    req = requests.get(my_url)\n",
    "    if req.status_code != 200:\n",
    "        return # not found\n",
    "    w = open(TEMPLATE_FILE.format(station=station, year=year), \"wt\")\n",
    "    w.write(req.text)\n",
    "    w.close()\n",
    "    \n",
    "def download_all_data(stations, start_year, end_year):\n",
    "    for station in stations:\n",
    "        for year in range(start_year, end_year + 1):\n",
    "            if not os.path.exists(TEMPLATE_FILE.format(station=station, year=year)):\n",
    "                download_data(station, year)\n",
    "                \n",
    "def get_all_files(stations, start_year, end_year):\n",
    "    all_files = collections.defaultdict(list)\n",
    "    for station in stations:\n",
    "        for year in range(start_year, end_year + 1):\n",
    "            f = open(TEMPLATE_FILE.format(station=station, year=year), \"rb\")\n",
    "            content = list(f.read())\n",
    "            all_files[station].append(content)\n",
    "            f.close()\n",
    "            \n",
    "    return all_files\n",
    "\n",
    "stations = [\"01044099999\"]\n",
    "start_year = 2021\n",
    "end_year = 2021\n",
    "download_all_data(stations, start_year, end_year)\n",
    "all_files = get_all_files(stations, start_year, end_year)\n",
    "\n",
    "list(all_files.keys())\n",
    "\n",
    "print(sys.getsizeof(all_files))\n",
    "print(sys.getsizeof(all_files.values()))\n",
    "print(sys.getsizeof(list(all_files.values())))\n",
    "\n",
    "station_content = all_files[stations[0]]\n",
    "print(len(station_content))\n",
    "print(sys.getsizeof(station_content))\n",
    "print(len(station_content[0]))\n",
    "print(sys.getsizeof(station_content[0]))\n",
    "print(type(station_content[0]))\n",
    "print(station_content[0][0])\n",
    "\n",
    "print(sys.getsizeof('text'))\n",
    "print(sys.getsizeof(\"longer text\"))\n",
    "print(sys.getsizeof([\"text\"]))\n",
    "print(sys.getsizeof([\"longer text\"]))\n",
    "\n",
    "print(sys.getsizeof(station_content[0][0]))\n",
    "print(type(station_content[0][0]))\n",
    "id(station_content[0][2])\n",
    "\n",
    "single_file_data = station_content[0]\n",
    "all_ids = set()\n",
    "for entry in single_file_data:\n",
    "    all_ids.add(id(entry))\n",
    "print(len(all_ids))\n",
    "\n",
    "single_file_str_list = [chr(i) for i in single_file_data]\n",
    "print(sys.getsizeof(single_file_str_list[0]))\n",
    "\n",
    "single_file_str = \"\".join(single_file_str_list)\n",
    "print(sys.getsizeof(single_file_str))\n",
    "\n",
    "def get_all_files_clean(stations, start_year, end_year):\n",
    "    all_files = collections.defaultdict(list)\n",
    "    for station in stations:\n",
    "        for year in range(start_year, end_year + 1):\n",
    "            f = open(TEMPLATE_FILE.format(station=station, year=year), \"rb\")\n",
    "            content = f.read()\n",
    "            all_files[station].append(content)\n",
    "            f.close()\n",
    "    return all_files\n",
    "\n",
    "all_files_clean = get_all_files_clean(stations, start_year, end_year)\n",
    "\n",
    "single_file_data = all_files_clean[stations[0]][0]\n",
    "print(type(single_file_data))\n",
    "print(sys.getsizeof(single_file_data))\n",
    "\n",
    "len(single_file_data)\n",
    "(len(single_file_data + 1)) // 2"
   ]
  },
  {
   "cell_type": "code",
   "execution_count": null,
   "id": "8ba4fb60",
   "metadata": {},
   "outputs": [],
   "source": []
  }
 ],
 "metadata": {
  "kernelspec": {
   "display_name": "base",
   "language": "python",
   "name": "python3"
  },
  "language_info": {
   "codemirror_mode": {
    "name": "ipython",
    "version": 3
   },
   "file_extension": ".py",
   "mimetype": "text/x-python",
   "name": "python",
   "nbconvert_exporter": "python",
   "pygments_lexer": "ipython3",
   "version": "3.8.12"
  }
 },
 "nbformat": 4,
 "nbformat_minor": 5
}
